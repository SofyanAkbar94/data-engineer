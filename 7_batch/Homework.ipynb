{
 "cells": [
  {
   "cell_type": "code",
   "execution_count": 3,
   "id": "0b8a4f25-7071-4701-9ab0-8ca9e5b05de8",
   "metadata": {},
   "outputs": [],
   "source": [
    "import pyspark\n",
    "from pyspark.sql import SparkSession"
   ]
  },
  {
   "cell_type": "code",
   "execution_count": 4,
   "id": "8bcecf18-6626-4191-b664-a3114a8096d4",
   "metadata": {},
   "outputs": [],
   "source": [
    "spark = SparkSession.builder.getOrCreate()"
   ]
  },
  {
   "cell_type": "code",
   "execution_count": 10,
   "id": "011d2a54-f3df-473d-9c44-6c14abef4b56",
   "metadata": {},
   "outputs": [],
   "source": [
    "df_fhv = spark.read.parquet('fhv/2019/10')"
   ]
  },
  {
   "cell_type": "code",
   "execution_count": 11,
   "id": "032c8ee7-a212-4731-b9a8-c926d5a373ea",
   "metadata": {},
   "outputs": [
    {
     "name": "stdout",
     "output_type": "stream",
     "text": [
      "+--------------------+-------------------+-------------------+------------+------------+-------+----------------------+\n",
      "|dispatching_base_num|    pickup_datetime|   dropoff_datetime|PULocationID|DOLocationID|SR_Flag|Affiliated_base_number|\n",
      "+--------------------+-------------------+-------------------+------------+------------+-------+----------------------+\n",
      "|     B00889         |2019-10-01 15:38:29|2019-10-01 15:56:54|         129|          92|   null|       B00889         |\n",
      "|              B01239|2019-10-02 10:17:37|2019-10-02 10:33:46|         264|         241|   null|                B01239|\n",
      "|              B01745|2019-10-01 14:07:24|2019-10-01 14:19:02|         264|         215|   null|                B01745|\n",
      "|              B00256|2019-10-02 13:05:34|2019-10-02 13:54:04|         264|         264|   null|                B00256|\n",
      "|              B03060|2019-10-01 13:33:31|2019-10-01 13:49:13|         264|         155|   null|                B02875|\n",
      "|              B02120|2019-10-02 16:00:00|2019-10-02 16:53:00|         264|         264|   null|                B02120|\n",
      "|              B02107|2019-10-02 08:39:54|2019-10-02 08:52:23|         264|         168|   null|                B02107|\n",
      "|              B02715|2019-10-02 15:12:04|2019-10-02 15:55:52|         265|         161|   null|                B02765|\n",
      "|              B01346|2019-10-01 09:04:00|2019-10-01 09:20:11|         264|         228|   null|                B01346|\n",
      "|              B02550|2019-10-02 10:14:37|2019-10-02 10:43:45|         264|         265|   null|                B02550|\n",
      "|              B01239|2019-10-02 12:57:48|2019-10-02 13:16:54|         264|         242|   null|                B01239|\n",
      "|              B00937|2019-10-02 04:27:46|2019-10-02 04:39:52|         264|          94|   null|                B00937|\n",
      "|              B02429|2019-10-02 13:22:54|2019-10-02 15:30:58|         264|         264|   null|                B02429|\n",
      "|              B02590|2019-10-01 08:00:00|2019-10-01 08:11:00|         264|         264|   null|                B02590|\n",
      "|              B02735|2019-10-01 15:52:50|2019-10-01 16:21:39|         264|         212|   null|                B02875|\n",
      "|              B01907|2019-10-02 09:06:18|2019-10-02 11:05:56|         264|         265|   null|                B02682|\n",
      "|              B02784|2019-10-02 11:43:52|2019-10-02 12:27:45|         165|         170|   null|                  null|\n",
      "|              B02101|2019-10-01 10:04:36|2019-10-01 11:19:53|         264|         265|   null|                B02101|\n",
      "|              B02826|2019-10-01 15:52:44|2019-10-01 15:56:43|         264|          37|   null|                B02826|\n",
      "|              B00856|2019-10-01 15:17:34|2019-10-01 15:21:54|         264|         222|   null|                B00856|\n",
      "+--------------------+-------------------+-------------------+------------+------------+-------+----------------------+\n",
      "only showing top 20 rows\n",
      "\n"
     ]
    }
   ],
   "source": [
    "df_fhv.show()"
   ]
  },
  {
   "cell_type": "code",
   "execution_count": 12,
   "id": "aa5bc165-e7ce-45f5-bcc8-9f51ee30d5ac",
   "metadata": {},
   "outputs": [],
   "source": [
    "from pyspark.sql import SparkSession\n",
    "from pyspark.sql.functions import col\n",
    "\n",
    "df_fhv.createOrReplaceTempView('fhv_data')"
   ]
  },
  {
   "cell_type": "code",
   "execution_count": 13,
   "id": "14e6943e-580b-4f2e-b14e-1669a742b590",
   "metadata": {},
   "outputs": [],
   "source": [
    "query = \"\"\"\n",
    "    SELECT COUNT(*) \n",
    "    FROM fhv_data \n",
    "    WHERE \n",
    "    CAST(pickup_datetime AS DATE) = '2019-10-15'\n",
    "\"\"\""
   ]
  },
  {
   "cell_type": "code",
   "execution_count": 14,
   "id": "87f1804c-21e1-496b-8537-768fc8317ba9",
   "metadata": {},
   "outputs": [],
   "source": [
    "result = spark.sql(query)"
   ]
  },
  {
   "cell_type": "code",
   "execution_count": 15,
   "id": "8e238c18-c8d8-4b29-b5ef-542ab840d3c1",
   "metadata": {},
   "outputs": [],
   "source": [
    "count_value = result.collect()[0][0]"
   ]
  },
  {
   "cell_type": "code",
   "execution_count": 16,
   "id": "bbdd3b8e-9318-4fdf-8cbe-63a609615879",
   "metadata": {},
   "outputs": [
    {
     "name": "stdout",
     "output_type": "stream",
     "text": [
      "The number of taxi trips on 2019-10-15 is: 62610\n"
     ]
    }
   ],
   "source": [
    "print(f\"The number of taxi trips on 2019-10-15 is: {count_value}\")"
   ]
  },
  {
   "cell_type": "code",
   "execution_count": 17,
   "id": "f70b348f-9af4-426b-9723-c4408e33ac7e",
   "metadata": {},
   "outputs": [
    {
     "name": "stdout",
     "output_type": "stream",
     "text": [
      "The length of the longest trip in hours is: 631152.5\n"
     ]
    }
   ],
   "source": [
    "query = \"\"\"\n",
    "    SELECT \n",
    "        MAX((UNIX_TIMESTAMP(dropoff_datetime) - UNIX_TIMESTAMP(pickup_datetime)) / 3600) as max_trip_length\n",
    "    FROM fhv_data\n",
    "\"\"\"\n",
    "\n",
    "result = spark.sql(query)\n",
    "\n",
    "max_trip_length = result.collect()[0]['max_trip_length']\n",
    "\n",
    "print(f\"The length of the longest trip in hours is: {max_trip_length}\")"
   ]
  },
  {
   "cell_type": "code",
   "execution_count": 18,
   "id": "f5386efd-92c7-4b03-a9c6-1e464c6b591a",
   "metadata": {},
   "outputs": [
    {
     "name": "stdout",
     "output_type": "stream",
     "text": [
      "+----------+-------------+--------------------+------------+\n",
      "|LocationID|      Borough|                Zone|service_zone|\n",
      "+----------+-------------+--------------------+------------+\n",
      "|         1|          EWR|      Newark Airport|         EWR|\n",
      "|         2|       Queens|         Jamaica Bay|   Boro Zone|\n",
      "|         3|        Bronx|Allerton/Pelham G...|   Boro Zone|\n",
      "|         4|    Manhattan|       Alphabet City| Yellow Zone|\n",
      "|         5|Staten Island|       Arden Heights|   Boro Zone|\n",
      "|         6|Staten Island|Arrochar/Fort Wad...|   Boro Zone|\n",
      "|         7|       Queens|             Astoria|   Boro Zone|\n",
      "|         8|       Queens|        Astoria Park|   Boro Zone|\n",
      "|         9|       Queens|          Auburndale|   Boro Zone|\n",
      "|        10|       Queens|        Baisley Park|   Boro Zone|\n",
      "|        11|     Brooklyn|          Bath Beach|   Boro Zone|\n",
      "|        12|    Manhattan|        Battery Park| Yellow Zone|\n",
      "|        13|    Manhattan|   Battery Park City| Yellow Zone|\n",
      "|        14|     Brooklyn|           Bay Ridge|   Boro Zone|\n",
      "|        15|       Queens|Bay Terrace/Fort ...|   Boro Zone|\n",
      "|        16|       Queens|             Bayside|   Boro Zone|\n",
      "|        17|     Brooklyn|             Bedford|   Boro Zone|\n",
      "|        18|        Bronx|        Bedford Park|   Boro Zone|\n",
      "|        19|       Queens|           Bellerose|   Boro Zone|\n",
      "|        20|        Bronx|             Belmont|   Boro Zone|\n",
      "+----------+-------------+--------------------+------------+\n",
      "only showing top 20 rows\n",
      "\n"
     ]
    }
   ],
   "source": [
    "df_zone = spark.read \\\n",
    "    .option(\"header\", \"true\") \\\n",
    "    .csv('taxi_zone_lookup.csv')\n",
    "df_zone.show()"
   ]
  },
  {
   "cell_type": "code",
   "execution_count": 19,
   "id": "c1ae8639-f8c3-4792-b706-d856589ea352",
   "metadata": {},
   "outputs": [
    {
     "data": {
      "text/plain": [
       "StructType([StructField('LocationID', StringType(), True), StructField('Borough', StringType(), True), StructField('Zone', StringType(), True), StructField('service_zone', StringType(), True)])"
      ]
     },
     "execution_count": 19,
     "metadata": {},
     "output_type": "execute_result"
    }
   ],
   "source": [
    "df_zone.schema"
   ]
  },
  {
   "cell_type": "code",
   "execution_count": 20,
   "id": "649138ef-2fab-4e48-aab0-b48659d703c9",
   "metadata": {},
   "outputs": [
    {
     "data": {
      "text/plain": [
       "LocationID       int64\n",
       "Borough         object\n",
       "Zone            object\n",
       "service_zone    object\n",
       "dtype: object"
      ]
     },
     "execution_count": 20,
     "metadata": {},
     "output_type": "execute_result"
    }
   ],
   "source": [
    "import pandas as pd\n",
    "df_pandas = pd.read_csv('taxi_zone_lookup.csv')\n",
    "df_pandas.dtypes"
   ]
  },
  {
   "cell_type": "code",
   "execution_count": 21,
   "id": "4f2334f1-bea9-45bc-837c-4352d3893ddb",
   "metadata": {},
   "outputs": [],
   "source": [
    "from pyspark.sql import types\n",
    "schema = types.StructType([\n",
    "    types.StructField('LocationID', types.IntegerType(), True),\n",
    "    types.StructField('Borough', types.StringType(), True),\n",
    "    types.StructField('Zone', types.StringType(), True),\n",
    "    types.StructField('service_zone', types.StringType(), True)\n",
    "])"
   ]
  },
  {
   "cell_type": "code",
   "execution_count": 22,
   "id": "ab68e706-3f1b-4f68-9acd-fd32e9dea4bd",
   "metadata": {},
   "outputs": [
    {
     "name": "stdout",
     "output_type": "stream",
     "text": [
      "+----------+-------------+--------------------+------------+\n",
      "|LocationID|      Borough|                Zone|service_zone|\n",
      "+----------+-------------+--------------------+------------+\n",
      "|         1|          EWR|      Newark Airport|         EWR|\n",
      "|         2|       Queens|         Jamaica Bay|   Boro Zone|\n",
      "|         3|        Bronx|Allerton/Pelham G...|   Boro Zone|\n",
      "|         4|    Manhattan|       Alphabet City| Yellow Zone|\n",
      "|         5|Staten Island|       Arden Heights|   Boro Zone|\n",
      "|         6|Staten Island|Arrochar/Fort Wad...|   Boro Zone|\n",
      "|         7|       Queens|             Astoria|   Boro Zone|\n",
      "|         8|       Queens|        Astoria Park|   Boro Zone|\n",
      "|         9|       Queens|          Auburndale|   Boro Zone|\n",
      "|        10|       Queens|        Baisley Park|   Boro Zone|\n",
      "|        11|     Brooklyn|          Bath Beach|   Boro Zone|\n",
      "|        12|    Manhattan|        Battery Park| Yellow Zone|\n",
      "|        13|    Manhattan|   Battery Park City| Yellow Zone|\n",
      "|        14|     Brooklyn|           Bay Ridge|   Boro Zone|\n",
      "|        15|       Queens|Bay Terrace/Fort ...|   Boro Zone|\n",
      "|        16|       Queens|             Bayside|   Boro Zone|\n",
      "|        17|     Brooklyn|             Bedford|   Boro Zone|\n",
      "|        18|        Bronx|        Bedford Park|   Boro Zone|\n",
      "|        19|       Queens|           Bellerose|   Boro Zone|\n",
      "|        20|        Bronx|             Belmont|   Boro Zone|\n",
      "+----------+-------------+--------------------+------------+\n",
      "only showing top 20 rows\n",
      "\n"
     ]
    }
   ],
   "source": [
    "df_zone = spark.read \\\n",
    "    .option(\"header\", \"true\") \\\n",
    "    .schema(schema) \\\n",
    "    .csv('taxi_zone_lookup.csv')\n",
    "df_zone.show()"
   ]
  },
  {
   "cell_type": "code",
   "execution_count": 34,
   "id": "f8951351-b2e5-4dcc-a251-68b530ca188c",
   "metadata": {},
   "outputs": [],
   "source": [
    "df_zone.write.parquet('fhv_zone/2019/10/')"
   ]
  },
  {
   "cell_type": "code",
   "execution_count": 35,
   "id": "3f37ed29-89ac-497a-ac68-96ff29aadabc",
   "metadata": {},
   "outputs": [],
   "source": [
    "df_zone = spark.read.parquet('fhv_zone/2019/10/')"
   ]
  },
  {
   "cell_type": "code",
   "execution_count": 37,
   "id": "d3bc03c8-c3ff-4345-a87c-df6dfd009488",
   "metadata": {},
   "outputs": [
    {
     "name": "stdout",
     "output_type": "stream",
     "text": [
      "root\n",
      " |-- LocationID: integer (nullable = true)\n",
      " |-- Borough: string (nullable = true)\n",
      " |-- Zone: string (nullable = true)\n",
      " |-- service_zone: string (nullable = true)\n",
      "\n"
     ]
    }
   ],
   "source": [
    "df_zone.printSchema()"
   ]
  },
  {
   "cell_type": "code",
   "execution_count": 97,
   "id": "923c412a-d99f-437e-8dea-81e3ba44bb16",
   "metadata": {},
   "outputs": [
    {
     "name": "stderr",
     "output_type": "stream",
     "text": [
      "C:\\Users\\msofy\\AppData\\Local\\Programs\\Python\\Python312\\Lib\\site-packages\\pyspark\\sql\\dataframe.py:229: FutureWarning: Deprecated in 2.0, use createOrReplaceTempView instead.\n",
      "  warnings.warn(\"Deprecated in 2.0, use createOrReplaceTempView instead.\", FutureWarning)\n"
     ]
    }
   ],
   "source": [
    "from pyspark.sql import SparkSession\n",
    "from pyspark.sql import types\n",
    "from pyspark.sql.functions import col\n",
    "\n",
    "df_fhv.registerTempTable('fhv_data_df')"
   ]
  },
  {
   "cell_type": "code",
   "execution_count": 100,
   "id": "56fbddc6-155b-4354-a81b-87171a8916df",
   "metadata": {},
   "outputs": [],
   "source": [
    "from pyspark.sql import SparkSession\n",
    "from pyspark.sql import types\n",
    "from pyspark.sql.functions import col\n",
    "\n",
    "df_zone.registerTempTable('zones')"
   ]
  },
  {
   "cell_type": "code",
   "execution_count": 108,
   "id": "9eb8052a-e3ac-4cd3-bee3-2e1498fd335a",
   "metadata": {},
   "outputs": [
    {
     "name": "stdout",
     "output_type": "stream",
     "text": [
      "+--------------------+--------+\n",
      "|                Zone|count(1)|\n",
      "+--------------------+--------+\n",
      "|         Jamaica Bay|       1|\n",
      "|Governor's Island...|       2|\n",
      "| Green-Wood Cemetery|       5|\n",
      "|       Broad Channel|       8|\n",
      "|     Highbridge Park|      14|\n",
      "|        Battery Park|      15|\n",
      "|Saint Michaels Ce...|      23|\n",
      "|Breezy Point/Fort...|      25|\n",
      "|Marine Park/Floyd...|      26|\n",
      "|        Astoria Park|      29|\n",
      "+--------------------+--------+\n",
      "\n"
     ]
    }
   ],
   "source": [
    "df_result = spark.sql(\"\"\"\n",
    "SELECT\n",
    "    pul.Zone,\n",
    "    COUNT(1)\n",
    "FROM \n",
    "    fhv_data_df fhv LEFT JOIN zones pul ON fhv.PULocationID = pul.LocationID\n",
    "                      LEFT JOIN zones dol ON fhv.DOLocationID = dol.LocationID\n",
    "GROUP BY \n",
    "    1\n",
    "ORDER BY\n",
    "    2 ASC\n",
    "LIMIT 10;\n",
    "\"\"\").show()"
   ]
  },
  {
   "cell_type": "code",
   "execution_count": null,
   "id": "ace4d0f0-3911-4c89-a535-6e292c1481f8",
   "metadata": {},
   "outputs": [],
   "source": []
  }
 ],
 "metadata": {
  "kernelspec": {
   "display_name": "Python 3 (ipykernel)",
   "language": "python",
   "name": "python3"
  },
  "language_info": {
   "codemirror_mode": {
    "name": "ipython",
    "version": 3
   },
   "file_extension": ".py",
   "mimetype": "text/x-python",
   "name": "python",
   "nbconvert_exporter": "python",
   "pygments_lexer": "ipython3",
   "version": "3.12.1"
  }
 },
 "nbformat": 4,
 "nbformat_minor": 5
}
