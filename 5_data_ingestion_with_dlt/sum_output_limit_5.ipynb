def square_root_generator(limit):
    n = 1
    sum_of_outputs = 0
    while n <= limit:
        sqrt_value = n ** 0.5
        sum_of_outputs += sqrt_value
        yield sqrt_value
        n += 1

# Example usage:
limit = 5
generator = square_root_generator(limit)

# Iterate through the generator and print square roots
for sqrt_value in generator:
    print(sqrt_value)

# Calculate and print the sum of square roots
print("Sum of square roots up to limit", limit, "is:", sum_of_outputs)
